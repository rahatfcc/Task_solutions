{
 "cells": [
  {
   "cell_type": "markdown",
   "metadata": {},
   "source": [
    "# Problem 2\n",
    "![purple-divider](https://user-images.githubusercontent.com/7065401/52071927-c1cd7100-2562-11e9-908a-dde91ba14e59.png)\n"
   ]
  },
  {
   "cell_type": "markdown",
   "metadata": {},
   "source": [
    "The requirement is to find the number of X active days for the driver to increase his completion rate. We have to keep in mind that the completion rate is always based on the last 100 rides. Here X value should be dynamically generated. "
   ]
  },
  {
   "cell_type": "markdown",
   "metadata": {},
   "source": [
    "But due to only considering the last 100 data for completion rate a complexity arises. Let's consider an example. Let a driver has a completion rate of .40 , which means out of last 100 rides he has completed 40 of them. Now on the following day he drove 10 rides and completed all of them. So this result in two bold outcomes. His range can stay stuck at .40 or his range can thrust upto even .50"
   ]
  },
  {
   "cell_type": "markdown",
   "metadata": {},
   "source": [
    "All of these depends upon the first 10 ride data of his last 100 rides. So lets consider the first 10 rides of the rider's last 100 ride was 'Cancelled' then on the following day the driver's last 100 data will consist of 50 'Completed' rides and his rate will become .50 as well. And if the first 10 rides of last 100 rides were 'Completed' then on the following day the rider will be stuck at at a rate of .40, because the new 10 'Completed' rides cancelled out the first 10 'Completed' rides of last 100 rides.  "
   ]
  },
  {
   "cell_type": "markdown",
   "metadata": {},
   "source": [
    "To tackle this randomness, I approached using an weighted estimation technique. Because for precise calculation DB needs to query every ride data(last 100) by order so that new data can cancel out them sequentially. And eventually this leads to increasing calculation manifold. \n",
    "The estimation technique is stated below."
   ]
  },
  {
   "cell_type": "markdown",
   "metadata": {},
   "source": [
    "# Derivation & Example"
   ]
  },
  {
   "cell_type": "markdown",
   "metadata": {},
   "source": [
    "Let a rider's current completion rate is 0.3 i.e. 30 completed out of last 100. So let's set him up with a target that everyday he will get 10 rides and he must have to maintain a completion rate of .8 out of those. That is he will have to complete 8 trips out of 10 every day. Now if he goes on maintaining this track record everyday, eventually he will end up reaching a rate of .71; but when? <br>\n",
    "That's where the estimation technique comes in."
   ]
  },
  {
   "cell_type": "markdown",
   "metadata": {},
   "source": [
    "As the rider is giving 10 rides every day with a rate of .8 so it will cancel out first 10 rides of the data(last 100). So for this case the weight of new rides are 10 and weight of previous rides are 90 (these value might vary depending on the number of new rides). So after Day 1:"
   ]
  },
  {
   "cell_type": "markdown",
   "metadata": {},
   "source": [
    "\\begin{equation*}\n",
    "\\frac{(.3*90)+(.8*10)}{ 100 } = .35\n",
    "\\end{equation*}\n"
   ]
  },
  {
   "cell_type": "markdown",
   "metadata": {},
   "source": [
    "or,\n",
    "\\begin{equation*} \n",
    "(.3*.9)+(.8*.1) = .35\n",
    "\\end{equation*}"
   ]
  },
  {
   "cell_type": "markdown",
   "metadata": {},
   "source": [
    "Here, <br>\n",
    "Starting Completion rate, a<sub>0</sub> = .3 <br>\n",
    "Weight of initial Completion rate(percentage of remaining data after new data import), w<sub>a</sub> = .9 <br>\n",
    "Target everyday rate to reach the goal rate, r = .8 <br>\n",
    "Weight of tagreted everyday rate, w<sub>r</sub> = .1 <br><br>\n",
    "So we can write:"
   ]
  },
  {
   "cell_type": "markdown",
   "metadata": {},
   "source": [
    "\\begin{equation*} \n",
    "a_1 = (a_0*w_a)+(r*w_r)  \n",
    "\\end{equation*}"
   ]
  },
  {
   "cell_type": "markdown",
   "metadata": {},
   "source": [
    "Then,\n",
    "\\begin{equation*} \n",
    "a_2 = (a_1 *w_a)+(r*w_r)  \n",
    "\\end{equation*}"
   ]
  },
  {
   "cell_type": "markdown",
   "metadata": {},
   "source": [
    "or,\n",
    "\\begin{equation*} \n",
    "a_2 = (  [(a_0*w_a)+(r*w_r)] *w_a)+(r*w_r)  \n",
    "\\quad\\quad \\text{[Putting value of $a_1$]}\n",
    "\\end{equation*}"
   ]
  },
  {
   "cell_type": "markdown",
   "metadata": {},
   "source": [
    "or,\n",
    "\\begin{equation*} \n",
    "a_2 = a_0 w_a^2 + rw_r(w_a+1)\n",
    "\\end{equation*}"
   ]
  },
  {
   "cell_type": "markdown",
   "metadata": {},
   "source": [
    "Then again,\n",
    "\\begin{equation*} \n",
    "a_3 = (a_2 *w_a)+(r*w_r)  \n",
    "\\end{equation*}"
   ]
  },
  {
   "cell_type": "markdown",
   "metadata": {},
   "source": [
    "or,\n",
    "\\begin{equation*} \n",
    "a_3 = (  [a_0 w_a^2 + rw_r(w_a+1)] *w_a)+(r*w_r)  \n",
    "\\quad\\quad \\text{[Putting value of $a_2$]}\n",
    "\\end{equation*}"
   ]
  },
  {
   "cell_type": "markdown",
   "metadata": {},
   "source": [
    "or,\n",
    "\\begin{equation*} \n",
    "a_3 = a_0 w_a^3 + rw_r(w_a^2+w_a+1)\n",
    "\\end{equation*}"
   ]
  },
  {
   "cell_type": "markdown",
   "metadata": {},
   "source": [
    "Therefore, \n",
    "\\begin{equation*} \n",
    "a_n = a_0 w_a^n + rw_r(1+w_a+w_a^2+.....+w_a^{n-1})\n",
    "\\end{equation*}\n"
   ]
  },
  {
   "cell_type": "markdown",
   "metadata": {},
   "source": [
    "We know, <br>\n",
    "Sum of finite geometric series: <br>\n",
    "\\begin{equation*} \n",
    "1+x+x^2+.....+x^{n-1} =  \\frac{1-x^n}{1-x}\n",
    "\\quad\\quad \\text{[where  $x!=1$]}\n",
    "\\end{equation*}"
   ]
  },
  {
   "cell_type": "markdown",
   "metadata": {},
   "source": [
    "So putting this value in our equation we get, \n",
    "\\begin{equation*} \n",
    "a_n = a_0 w_a^n + rw_r(\\frac{1-w_a^n}{1-w_a})\n",
    "\\end{equation*}\n"
   ]
  },
  {
   "cell_type": "markdown",
   "metadata": {},
   "source": [
    "or,\n",
    "\\begin{equation*} \n",
    "a_n - a_0 w_a^n = rw_r(\\frac{1-w_a^n}{1-w_a})\n",
    "\\end{equation*}\n"
   ]
  },
  {
   "cell_type": "markdown",
   "metadata": {},
   "source": [
    "or,\n",
    "\\begin{equation*} \n",
    "(a_n - a_0 w_a^n)*(1-w_a) = rw_r(1-w_a^n)\n",
    "\\end{equation*}\n"
   ]
  },
  {
   "cell_type": "markdown",
   "metadata": {},
   "source": [
    "or,\n",
    "\\begin{equation*} \n",
    "a_n - a_nw_a - a_0w_a^n + a_0w_a^{n+1} = rw_r-rw_r w_a^n\n",
    "\\end{equation*}\n"
   ]
  },
  {
   "cell_type": "markdown",
   "metadata": {},
   "source": [
    "or,\n",
    "\\begin{equation*} \n",
    " rw_r w_a^n - a_0w_a^n + a_0w_a^{n+1} = rw_r -a_n + a_nw_a\n",
    "\\end{equation*}\n"
   ]
  },
  {
   "cell_type": "markdown",
   "metadata": {},
   "source": [
    "or,\n",
    "\\begin{equation*} \n",
    " w_a^n( rw_r  - a_0 + a_0w_a) = rw_r -a_n + a_nw_a\n",
    "\\end{equation*}\n"
   ]
  },
  {
   "cell_type": "markdown",
   "metadata": {},
   "source": [
    "or,\n",
    "\\begin{equation*} \n",
    " w_a^n = \\frac{rw_r -a_n + a_nw_a}{ rw_r  - a_0 + a_0w_a}\n",
    "\\end{equation*}\n"
   ]
  },
  {
   "cell_type": "markdown",
   "metadata": {},
   "source": [
    "or,\n",
    "\\begin{equation*} \n",
    " w_a^n = \\frac{rw_r -a_n(1-w_a)}{ rw_r  - a_0(1 - w_a)}\n",
    "\\end{equation*}\n"
   ]
  },
  {
   "cell_type": "markdown",
   "metadata": {},
   "source": [
    "or,\n",
    "\\begin{equation*} \n",
    " w_a^n = \\frac{rw_r -a_nw_r}{ rw_r  - a_0w_r}\n",
    " \\quad\\quad \\text{[As weights are complementary so, $w_r+w_a=1$]}\n",
    "\\end{equation*}\n"
   ]
  },
  {
   "cell_type": "markdown",
   "metadata": {},
   "source": [
    "or,\n",
    "\\begin{equation*} \n",
    " w_a^n = \\frac{r -a_n}{ r  - a_0}\n",
    "\\end{equation*}\n"
   ]
  },
  {
   "cell_type": "markdown",
   "metadata": {},
   "source": [
    "or,\n",
    "\\begin{equation*} \n",
    " n = log_{w_a}(\\frac{r -a_n}{ r  - a_0})\n",
    "\\end{equation*}\n"
   ]
  },
  {
   "cell_type": "markdown",
   "metadata": {},
   "source": [
    "Here, n is the number of days required to reach the goal completion ratio i.e. a<sub>n</sub>"
   ]
  },
  {
   "cell_type": "markdown",
   "metadata": {},
   "source": [
    "\n",
    "# Comprehensive Example"
   ]
  },
  {
   "cell_type": "markdown",
   "metadata": {},
   "source": [
    "Let the above stated person with ratio 0.3 wants to reach 0.7 by giving 10 rides every day with 0.8 completion rate on average. So the number of days it will require to reach the goal is found through brute force below:"
   ]
  },
  {
   "cell_type": "code",
   "execution_count": 95,
   "metadata": {},
   "outputs": [
    {
     "name": "stdout",
     "output_type": "stream",
     "text": [
      "1 : 0.3 * 0.9 + 0.8 * 0.1 = 0.35000000000000003\n",
      "2 : 0.35000000000000003 * 0.9 + 0.8 * 0.1 = 0.3950000000000001\n",
      "3 : 0.3950000000000001 * 0.9 + 0.8 * 0.1 = 0.4355000000000001\n",
      "4 : 0.4355000000000001 * 0.9 + 0.8 * 0.1 = 0.47195000000000015\n",
      "5 : 0.47195000000000015 * 0.9 + 0.8 * 0.1 = 0.5047550000000002\n",
      "6 : 0.5047550000000002 * 0.9 + 0.8 * 0.1 = 0.5342795000000002\n",
      "7 : 0.5342795000000002 * 0.9 + 0.8 * 0.1 = 0.5608515500000002\n",
      "8 : 0.5608515500000002 * 0.9 + 0.8 * 0.1 = 0.5847663950000002\n",
      "9 : 0.5847663950000002 * 0.9 + 0.8 * 0.1 = 0.6062897555000002\n",
      "10 : 0.6062897555000002 * 0.9 + 0.8 * 0.1 = 0.6256607799500002\n",
      "11 : 0.6256607799500002 * 0.9 + 0.8 * 0.1 = 0.6430947019550002\n",
      "12 : 0.6430947019550002 * 0.9 + 0.8 * 0.1 = 0.6587852317595002\n",
      "13 : 0.6587852317595002 * 0.9 + 0.8 * 0.1 = 0.6729067085835503\n",
      "14 : 0.6729067085835503 * 0.9 + 0.8 * 0.1 = 0.6856160377251952\n",
      "15 : 0.6856160377251952 * 0.9 + 0.8 * 0.1 = 0.6970544339526756\n",
      "16 : 0.6970544339526756 * 0.9 + 0.8 * 0.1 = 0.7073489905574082\n",
      "number of days required: 16\n"
     ]
    }
   ],
   "source": [
    "n = 0\n",
    "a= 0.3\n",
    "w_a = 0.9\n",
    "w_r = 0.1\n",
    "r = 0.8\n",
    "a_n=.7\n",
    "\n",
    "while a < a_n:\n",
    "    temp_a = a\n",
    "    a= a*w_a +r*w_r\n",
    "    n = n+1\n",
    "    print(n,\":\",temp_a,\"*\",w_a,\"+\",r,\"*\",w_r, \"=\", a)\n",
    "print(\"number of days required:\",n)"
   ]
  },
  {
   "cell_type": "markdown",
   "metadata": {},
   "source": [
    "Now using our equation we get:"
   ]
  },
  {
   "cell_type": "code",
   "execution_count": 94,
   "metadata": {},
   "outputs": [
    {
     "name": "stdout",
     "output_type": "stream",
     "text": [
      "number of days required 16\n"
     ]
    }
   ],
   "source": [
    "import math\n",
    "w_a = 0.9\n",
    "r=.8\n",
    "a_n=.7\n",
    "a=.3\n",
    "\n",
    "n = math.ceil(math.log(k,w_a))\n",
    "print(\"number of days required:\",n)\n"
   ]
  },
  {
   "cell_type": "markdown",
   "metadata": {},
   "source": [
    "Thus if a rider is having a completion rate of .3 then we can give him 16 days of time to improve his rate upto .7 and he can easily maintain it by completing 8 rides out of 10 every day   "
   ]
  },
  {
   "cell_type": "markdown",
   "metadata": {},
   "source": [
    "# Benefits"
   ]
  },
  {
   "cell_type": "markdown",
   "metadata": {},
   "source": [
    "Benefits of this method are: \n",
    "1. Every variable here can be suited as per needs. As for example if you want to give the driver a more hefty challenge i.e. he will have to complete 14 rides out of 16 everyday; calculation still remains persistent.\n",
    "2. Number of days required for the driver can be calculated very easily reducing overheads."
   ]
  }
 ],
 "metadata": {
  "kernelspec": {
   "display_name": "Python 3",
   "language": "python",
   "name": "python3"
  },
  "language_info": {
   "codemirror_mode": {
    "name": "ipython",
    "version": 3
   },
   "file_extension": ".py",
   "mimetype": "text/x-python",
   "name": "python",
   "nbconvert_exporter": "python",
   "pygments_lexer": "ipython3",
   "version": "3.8.6"
  }
 },
 "nbformat": 4,
 "nbformat_minor": 4
}
